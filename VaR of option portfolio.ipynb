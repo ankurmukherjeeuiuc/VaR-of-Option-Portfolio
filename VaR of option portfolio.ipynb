{
 "cells": [
  {
   "cell_type": "code",
   "execution_count": 38,
   "metadata": {},
   "outputs": [],
   "source": [
    "import numpy as np\n",
    "import scipy.stats as si\n",
    "\n",
    "def bs(S,K,T,r,sigma,option):\n",
    "    d1 = (np.log(S/K) + (r+((sigma**2)/2)) * T)/(sigma * np.sqrt(T))\n",
    "    d2 = d1 - (sigma * np.sqrt(T))\n",
    "    \n",
    "    if option == 'call':\n",
    "        result = (S * si.norm.cdf(d1, 0.0, 1.0) - K * np.exp(-r * T) * si.norm.cdf(d2, 0.0, 1.0))\n",
    "    if option == 'put':\n",
    "        result = (K * np.exp(-r * T) * si.norm.cdf(-d2, 0.0, 1.0) - S * si.norm.cdf(-d1, 0.0, 1.0))\n",
    "        \n",
    "    return result\n",
    "    "
   ]
  },
  {
   "cell_type": "code",
   "execution_count": 39,
   "metadata": {},
   "outputs": [
    {
     "data": {
      "text/plain": [
       "4.6041704812940125"
      ]
     },
     "execution_count": 39,
     "metadata": {},
     "output_type": "execute_result"
    }
   ],
   "source": [
    "bs(101.17,100,.083333,.01,0.45,option = 'put')"
   ]
  },
  {
   "cell_type": "code",
   "execution_count": null,
   "metadata": {},
   "outputs": [],
   "source": []
  },
  {
   "cell_type": "code",
   "execution_count": 40,
   "metadata": {},
   "outputs": [],
   "source": [
    "#ds = udt + sigmadz\n",
    "def gbm(u,stdev,dt):\n",
    "    dz = np.random.normal(u,stdev)\n",
    "    ds = u*dt + stdev*dz    \n",
    "    return ds    "
   ]
  },
  {
   "cell_type": "code",
   "execution_count": 41,
   "metadata": {},
   "outputs": [
    {
     "name": "stdout",
     "output_type": "stream",
     "text": [
      "110920.86099434143\n"
     ]
    }
   ],
   "source": [
    "trials = 10000\n",
    "p=[]\n",
    "\n",
    "for i in range(trials):\n",
    "    #ABC stock\n",
    "    ds_ABC = gbm(0.0005*21,0.028*np.sqrt(21),21)\n",
    "    y = 101.17+ds_ABC\n",
    "    call_ABC =  bs(y,100,.083333,.01,0.45,option = 'call')\n",
    "    put_ABC =   bs(y,100,.083333,.01,0.45,option = 'put')\n",
    "    portfolio_ABC = 6000*(call_ABC + put_ABC)\n",
    "    #DEF\n",
    "    ds_DEF = gbm(0.0004*21,0.023*np.sqrt(21),21)\n",
    "    z = 148.97+ds_DEF\n",
    "    call_DEF =  bs(z,150,.083333,.01,0.37,option = 'call')\n",
    "    put_DEF =   bs(z,150,.083333,.01,0.37,option = 'call')\n",
    "    portfolio_DEF = 4000*(call_DEF + put_DEF)\n",
    "    #Total\n",
    "    total_portfolio_value = portfolio_ABC + portfolio_DEF \n",
    "    p.append(total_portfolio_value)    \n",
    "\n",
    "#sort ascending order\n",
    "p.sort()\n",
    "#1% 21d Var\n",
    "var_21d = p[99]\n",
    "print(var_21d)"
   ]
  },
  {
   "cell_type": "code",
   "execution_count": null,
   "metadata": {},
   "outputs": [],
   "source": []
  }
 ],
 "metadata": {
  "kernelspec": {
   "display_name": "Python 3",
   "language": "python",
   "name": "python3"
  },
  "language_info": {
   "codemirror_mode": {
    "name": "ipython",
    "version": 3
   },
   "file_extension": ".py",
   "mimetype": "text/x-python",
   "name": "python",
   "nbconvert_exporter": "python",
   "pygments_lexer": "ipython3",
   "version": "3.7.3"
  }
 },
 "nbformat": 4,
 "nbformat_minor": 2
}
